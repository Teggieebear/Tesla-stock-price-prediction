{
 "cells": [
  {
   "cell_type": "markdown",
   "id": "fa888a57",
   "metadata": {},
   "source": [
    " ## ANALYSIS AND PREDICTION OF THE TESLA STOCK PRICE\n"
   ]
  },
  {
   "cell_type": "markdown",
   "id": "07ba3b65",
   "metadata": {},
   "source": [
    "This aim of this project is to carry out an analysis on the price of Tesla stocks between 2010 and 2020 to see how the price of Tesla stocks increased overtime, and then build a Linear regression model to predict the closing price of the Tesla stock."
   ]
  },
  {
   "cell_type": "code",
   "execution_count": 1,
   "id": "2d72a4a8",
   "metadata": {},
   "outputs": [],
   "source": [
    "#importing libraries\n",
    "import pandas as pd\n",
    "import numpy as np\n",
    "import seaborn as sns\n",
    "import matplotlib.pyplot as plt\n",
    "from sklearn.preprocessing import MinMaxScaler\n",
    "from sklearn.model_selection import train_test_split\n",
    "from sklearn.linear_model import LinearRegression\n",
    "from sklearn.metrics import mean_absolute_error\n",
    "from sklearn.metrics import mean_squared_error\n",
    "from sklearn.metrics import r2_score\n",
    "from sklearn.linear_model import Ridge\n",
    "from sklearn.linear_model import Lasso\n"
   ]
  },
  {
   "cell_type": "markdown",
   "id": "6f453943",
   "metadata": {},
   "source": [
    "Loading the csv file and printing the first five rows"
   ]
  },
  {
   "cell_type": "code",
   "execution_count": 2,
   "id": "a22bb3f4",
   "metadata": {},
   "outputs": [
    {
     "data": {
      "text/html": [
       "<div>\n",
       "<style scoped>\n",
       "    .dataframe tbody tr th:only-of-type {\n",
       "        vertical-align: middle;\n",
       "    }\n",
       "\n",
       "    .dataframe tbody tr th {\n",
       "        vertical-align: top;\n",
       "    }\n",
       "\n",
       "    .dataframe thead th {\n",
       "        text-align: right;\n",
       "    }\n",
       "</style>\n",
       "<table border=\"1\" class=\"dataframe\">\n",
       "  <thead>\n",
       "    <tr style=\"text-align: right;\">\n",
       "      <th></th>\n",
       "      <th>Date</th>\n",
       "      <th>Open</th>\n",
       "      <th>High</th>\n",
       "      <th>Low</th>\n",
       "      <th>Close</th>\n",
       "      <th>Adj Close</th>\n",
       "      <th>Volume</th>\n",
       "    </tr>\n",
       "  </thead>\n",
       "  <tbody>\n",
       "    <tr>\n",
       "      <th>0</th>\n",
       "      <td>2010-06-29</td>\n",
       "      <td>19.000000</td>\n",
       "      <td>25.00</td>\n",
       "      <td>17.540001</td>\n",
       "      <td>23.889999</td>\n",
       "      <td>23.889999</td>\n",
       "      <td>18766300</td>\n",
       "    </tr>\n",
       "    <tr>\n",
       "      <th>1</th>\n",
       "      <td>2010-06-30</td>\n",
       "      <td>25.790001</td>\n",
       "      <td>30.42</td>\n",
       "      <td>23.299999</td>\n",
       "      <td>23.830000</td>\n",
       "      <td>23.830000</td>\n",
       "      <td>17187100</td>\n",
       "    </tr>\n",
       "    <tr>\n",
       "      <th>2</th>\n",
       "      <td>2010-07-01</td>\n",
       "      <td>25.000000</td>\n",
       "      <td>25.92</td>\n",
       "      <td>20.270000</td>\n",
       "      <td>21.959999</td>\n",
       "      <td>21.959999</td>\n",
       "      <td>8218800</td>\n",
       "    </tr>\n",
       "    <tr>\n",
       "      <th>3</th>\n",
       "      <td>2010-07-02</td>\n",
       "      <td>23.000000</td>\n",
       "      <td>23.10</td>\n",
       "      <td>18.709999</td>\n",
       "      <td>19.200001</td>\n",
       "      <td>19.200001</td>\n",
       "      <td>5139800</td>\n",
       "    </tr>\n",
       "    <tr>\n",
       "      <th>4</th>\n",
       "      <td>2010-07-06</td>\n",
       "      <td>20.000000</td>\n",
       "      <td>20.00</td>\n",
       "      <td>15.830000</td>\n",
       "      <td>16.110001</td>\n",
       "      <td>16.110001</td>\n",
       "      <td>6866900</td>\n",
       "    </tr>\n",
       "  </tbody>\n",
       "</table>\n",
       "</div>"
      ],
      "text/plain": [
       "         Date       Open   High        Low      Close  Adj Close    Volume\n",
       "0  2010-06-29  19.000000  25.00  17.540001  23.889999  23.889999  18766300\n",
       "1  2010-06-30  25.790001  30.42  23.299999  23.830000  23.830000  17187100\n",
       "2  2010-07-01  25.000000  25.92  20.270000  21.959999  21.959999   8218800\n",
       "3  2010-07-02  23.000000  23.10  18.709999  19.200001  19.200001   5139800\n",
       "4  2010-07-06  20.000000  20.00  15.830000  16.110001  16.110001   6866900"
      ]
     },
     "execution_count": 2,
     "metadata": {},
     "output_type": "execute_result"
    }
   ],
   "source": [
    "df = pd.read_csv(r\"C:\\Users\\Tega\\Downloads\\TSLA.csv\")\n",
    "df.head()"
   ]
  },
  {
   "cell_type": "markdown",
   "id": "d2d168ef",
   "metadata": {},
   "source": [
    "Printing the statistical information of the dataset."
   ]
  },
  {
   "cell_type": "code",
   "execution_count": 3,
   "id": "957986fb",
   "metadata": {},
   "outputs": [
    {
     "data": {
      "text/html": [
       "<div>\n",
       "<style scoped>\n",
       "    .dataframe tbody tr th:only-of-type {\n",
       "        vertical-align: middle;\n",
       "    }\n",
       "\n",
       "    .dataframe tbody tr th {\n",
       "        vertical-align: top;\n",
       "    }\n",
       "\n",
       "    .dataframe thead th {\n",
       "        text-align: right;\n",
       "    }\n",
       "</style>\n",
       "<table border=\"1\" class=\"dataframe\">\n",
       "  <thead>\n",
       "    <tr style=\"text-align: right;\">\n",
       "      <th></th>\n",
       "      <th>Open</th>\n",
       "      <th>High</th>\n",
       "      <th>Low</th>\n",
       "      <th>Close</th>\n",
       "      <th>Adj Close</th>\n",
       "      <th>Volume</th>\n",
       "    </tr>\n",
       "  </thead>\n",
       "  <tbody>\n",
       "    <tr>\n",
       "      <th>count</th>\n",
       "      <td>2416.000000</td>\n",
       "      <td>2416.000000</td>\n",
       "      <td>2416.000000</td>\n",
       "      <td>2416.000000</td>\n",
       "      <td>2416.000000</td>\n",
       "      <td>2.416000e+03</td>\n",
       "    </tr>\n",
       "    <tr>\n",
       "      <th>mean</th>\n",
       "      <td>186.271147</td>\n",
       "      <td>189.578224</td>\n",
       "      <td>182.916639</td>\n",
       "      <td>186.403651</td>\n",
       "      <td>186.403651</td>\n",
       "      <td>5.572722e+06</td>\n",
       "    </tr>\n",
       "    <tr>\n",
       "      <th>std</th>\n",
       "      <td>118.740163</td>\n",
       "      <td>120.892329</td>\n",
       "      <td>116.857591</td>\n",
       "      <td>119.136020</td>\n",
       "      <td>119.136020</td>\n",
       "      <td>4.987809e+06</td>\n",
       "    </tr>\n",
       "    <tr>\n",
       "      <th>min</th>\n",
       "      <td>16.139999</td>\n",
       "      <td>16.629999</td>\n",
       "      <td>14.980000</td>\n",
       "      <td>15.800000</td>\n",
       "      <td>15.800000</td>\n",
       "      <td>1.185000e+05</td>\n",
       "    </tr>\n",
       "    <tr>\n",
       "      <th>25%</th>\n",
       "      <td>34.342498</td>\n",
       "      <td>34.897501</td>\n",
       "      <td>33.587501</td>\n",
       "      <td>34.400002</td>\n",
       "      <td>34.400002</td>\n",
       "      <td>1.899275e+06</td>\n",
       "    </tr>\n",
       "    <tr>\n",
       "      <th>50%</th>\n",
       "      <td>213.035004</td>\n",
       "      <td>216.745002</td>\n",
       "      <td>208.870002</td>\n",
       "      <td>212.960007</td>\n",
       "      <td>212.960007</td>\n",
       "      <td>4.578400e+06</td>\n",
       "    </tr>\n",
       "    <tr>\n",
       "      <th>75%</th>\n",
       "      <td>266.450012</td>\n",
       "      <td>270.927513</td>\n",
       "      <td>262.102501</td>\n",
       "      <td>266.774994</td>\n",
       "      <td>266.774994</td>\n",
       "      <td>7.361150e+06</td>\n",
       "    </tr>\n",
       "    <tr>\n",
       "      <th>max</th>\n",
       "      <td>673.690002</td>\n",
       "      <td>786.140015</td>\n",
       "      <td>673.520020</td>\n",
       "      <td>780.000000</td>\n",
       "      <td>780.000000</td>\n",
       "      <td>4.706500e+07</td>\n",
       "    </tr>\n",
       "  </tbody>\n",
       "</table>\n",
       "</div>"
      ],
      "text/plain": [
       "              Open         High          Low        Close    Adj Close  \\\n",
       "count  2416.000000  2416.000000  2416.000000  2416.000000  2416.000000   \n",
       "mean    186.271147   189.578224   182.916639   186.403651   186.403651   \n",
       "std     118.740163   120.892329   116.857591   119.136020   119.136020   \n",
       "min      16.139999    16.629999    14.980000    15.800000    15.800000   \n",
       "25%      34.342498    34.897501    33.587501    34.400002    34.400002   \n",
       "50%     213.035004   216.745002   208.870002   212.960007   212.960007   \n",
       "75%     266.450012   270.927513   262.102501   266.774994   266.774994   \n",
       "max     673.690002   786.140015   673.520020   780.000000   780.000000   \n",
       "\n",
       "             Volume  \n",
       "count  2.416000e+03  \n",
       "mean   5.572722e+06  \n",
       "std    4.987809e+06  \n",
       "min    1.185000e+05  \n",
       "25%    1.899275e+06  \n",
       "50%    4.578400e+06  \n",
       "75%    7.361150e+06  \n",
       "max    4.706500e+07  "
      ]
     },
     "execution_count": 3,
     "metadata": {},
     "output_type": "execute_result"
    }
   ],
   "source": [
    "df.describe()"
   ]
  },
  {
   "cell_type": "markdown",
   "id": "c3957cae",
   "metadata": {},
   "source": [
    "Getting more information on the dataset (number of rows, number of columns, null values and Datatype)"
   ]
  },
  {
   "cell_type": "code",
   "execution_count": 4,
   "id": "ec5d56e5",
   "metadata": {},
   "outputs": [
    {
     "name": "stdout",
     "output_type": "stream",
     "text": [
      "<class 'pandas.core.frame.DataFrame'>\n",
      "RangeIndex: 2416 entries, 0 to 2415\n",
      "Data columns (total 7 columns):\n",
      " #   Column     Non-Null Count  Dtype  \n",
      "---  ------     --------------  -----  \n",
      " 0   Date       2416 non-null   object \n",
      " 1   Open       2416 non-null   float64\n",
      " 2   High       2416 non-null   float64\n",
      " 3   Low        2416 non-null   float64\n",
      " 4   Close      2416 non-null   float64\n",
      " 5   Adj Close  2416 non-null   float64\n",
      " 6   Volume     2416 non-null   int64  \n",
      "dtypes: float64(5), int64(1), object(1)\n",
      "memory usage: 132.2+ KB\n"
     ]
    }
   ],
   "source": [
    "df.info()"
   ]
  },
  {
   "cell_type": "markdown",
   "id": "af69ee79",
   "metadata": {},
   "source": [
    "Checking for duplicates"
   ]
  },
  {
   "cell_type": "code",
   "execution_count": 5,
   "id": "8b309ead",
   "metadata": {},
   "outputs": [
    {
     "data": {
      "text/html": [
       "<div>\n",
       "<style scoped>\n",
       "    .dataframe tbody tr th:only-of-type {\n",
       "        vertical-align: middle;\n",
       "    }\n",
       "\n",
       "    .dataframe tbody tr th {\n",
       "        vertical-align: top;\n",
       "    }\n",
       "\n",
       "    .dataframe thead th {\n",
       "        text-align: right;\n",
       "    }\n",
       "</style>\n",
       "<table border=\"1\" class=\"dataframe\">\n",
       "  <thead>\n",
       "    <tr style=\"text-align: right;\">\n",
       "      <th></th>\n",
       "      <th>Date</th>\n",
       "      <th>Open</th>\n",
       "      <th>High</th>\n",
       "      <th>Low</th>\n",
       "      <th>Close</th>\n",
       "      <th>Adj Close</th>\n",
       "      <th>Volume</th>\n",
       "    </tr>\n",
       "  </thead>\n",
       "  <tbody>\n",
       "  </tbody>\n",
       "</table>\n",
       "</div>"
      ],
      "text/plain": [
       "Empty DataFrame\n",
       "Columns: [Date, Open, High, Low, Close, Adj Close, Volume]\n",
       "Index: []"
      ]
     },
     "execution_count": 5,
     "metadata": {},
     "output_type": "execute_result"
    }
   ],
   "source": [
    "df[df.duplicated()]"
   ]
  },
  {
   "cell_type": "markdown",
   "id": "ba85e116",
   "metadata": {},
   "source": [
    "There are 2,416 rows and 7 columns in the dataset.\n",
    "The dataset has no null or duplicate value."
   ]
  },
  {
   "cell_type": "markdown",
   "id": "c5c95045",
   "metadata": {},
   "source": [
    "### Data Visualisation"
   ]
  },
  {
   "cell_type": "markdown",
   "id": "63d41938",
   "metadata": {},
   "source": [
    "I want to see how the price of Tesla stock increased over the years. To achieve this, i will have to add a new column to the dataset."
   ]
  },
  {
   "cell_type": "code",
   "execution_count": 6,
   "id": "d4fd04ae",
   "metadata": {
    "scrolled": true
   },
   "outputs": [
    {
     "data": {
      "text/html": [
       "<div>\n",
       "<style scoped>\n",
       "    .dataframe tbody tr th:only-of-type {\n",
       "        vertical-align: middle;\n",
       "    }\n",
       "\n",
       "    .dataframe tbody tr th {\n",
       "        vertical-align: top;\n",
       "    }\n",
       "\n",
       "    .dataframe thead th {\n",
       "        text-align: right;\n",
       "    }\n",
       "</style>\n",
       "<table border=\"1\" class=\"dataframe\">\n",
       "  <thead>\n",
       "    <tr style=\"text-align: right;\">\n",
       "      <th></th>\n",
       "      <th>Date</th>\n",
       "      <th>Open</th>\n",
       "      <th>High</th>\n",
       "      <th>Low</th>\n",
       "      <th>Close</th>\n",
       "      <th>Adj Close</th>\n",
       "      <th>Volume</th>\n",
       "      <th>Year</th>\n",
       "    </tr>\n",
       "  </thead>\n",
       "  <tbody>\n",
       "    <tr>\n",
       "      <th>0</th>\n",
       "      <td>2010-06-29</td>\n",
       "      <td>19.000000</td>\n",
       "      <td>25.000000</td>\n",
       "      <td>17.540001</td>\n",
       "      <td>23.889999</td>\n",
       "      <td>23.889999</td>\n",
       "      <td>18766300</td>\n",
       "      <td>2010</td>\n",
       "    </tr>\n",
       "    <tr>\n",
       "      <th>1</th>\n",
       "      <td>2010-06-30</td>\n",
       "      <td>25.790001</td>\n",
       "      <td>30.420000</td>\n",
       "      <td>23.299999</td>\n",
       "      <td>23.830000</td>\n",
       "      <td>23.830000</td>\n",
       "      <td>17187100</td>\n",
       "      <td>2010</td>\n",
       "    </tr>\n",
       "    <tr>\n",
       "      <th>2</th>\n",
       "      <td>2010-07-01</td>\n",
       "      <td>25.000000</td>\n",
       "      <td>25.920000</td>\n",
       "      <td>20.270000</td>\n",
       "      <td>21.959999</td>\n",
       "      <td>21.959999</td>\n",
       "      <td>8218800</td>\n",
       "      <td>2010</td>\n",
       "    </tr>\n",
       "    <tr>\n",
       "      <th>3</th>\n",
       "      <td>2010-07-02</td>\n",
       "      <td>23.000000</td>\n",
       "      <td>23.100000</td>\n",
       "      <td>18.709999</td>\n",
       "      <td>19.200001</td>\n",
       "      <td>19.200001</td>\n",
       "      <td>5139800</td>\n",
       "      <td>2010</td>\n",
       "    </tr>\n",
       "    <tr>\n",
       "      <th>4</th>\n",
       "      <td>2010-07-06</td>\n",
       "      <td>20.000000</td>\n",
       "      <td>20.000000</td>\n",
       "      <td>15.830000</td>\n",
       "      <td>16.110001</td>\n",
       "      <td>16.110001</td>\n",
       "      <td>6866900</td>\n",
       "      <td>2010</td>\n",
       "    </tr>\n",
       "    <tr>\n",
       "      <th>...</th>\n",
       "      <td>...</td>\n",
       "      <td>...</td>\n",
       "      <td>...</td>\n",
       "      <td>...</td>\n",
       "      <td>...</td>\n",
       "      <td>...</td>\n",
       "      <td>...</td>\n",
       "      <td>...</td>\n",
       "    </tr>\n",
       "    <tr>\n",
       "      <th>2411</th>\n",
       "      <td>2020-01-28</td>\n",
       "      <td>568.489990</td>\n",
       "      <td>576.809998</td>\n",
       "      <td>558.080017</td>\n",
       "      <td>566.900024</td>\n",
       "      <td>566.900024</td>\n",
       "      <td>11788500</td>\n",
       "      <td>2020</td>\n",
       "    </tr>\n",
       "    <tr>\n",
       "      <th>2412</th>\n",
       "      <td>2020-01-29</td>\n",
       "      <td>575.690002</td>\n",
       "      <td>589.799988</td>\n",
       "      <td>567.429993</td>\n",
       "      <td>580.989990</td>\n",
       "      <td>580.989990</td>\n",
       "      <td>17801500</td>\n",
       "      <td>2020</td>\n",
       "    </tr>\n",
       "    <tr>\n",
       "      <th>2413</th>\n",
       "      <td>2020-01-30</td>\n",
       "      <td>632.419983</td>\n",
       "      <td>650.880005</td>\n",
       "      <td>618.000000</td>\n",
       "      <td>640.809998</td>\n",
       "      <td>640.809998</td>\n",
       "      <td>29005700</td>\n",
       "      <td>2020</td>\n",
       "    </tr>\n",
       "    <tr>\n",
       "      <th>2414</th>\n",
       "      <td>2020-01-31</td>\n",
       "      <td>640.000000</td>\n",
       "      <td>653.000000</td>\n",
       "      <td>632.520020</td>\n",
       "      <td>650.570007</td>\n",
       "      <td>650.570007</td>\n",
       "      <td>15719300</td>\n",
       "      <td>2020</td>\n",
       "    </tr>\n",
       "    <tr>\n",
       "      <th>2415</th>\n",
       "      <td>2020-02-03</td>\n",
       "      <td>673.690002</td>\n",
       "      <td>786.140015</td>\n",
       "      <td>673.520020</td>\n",
       "      <td>780.000000</td>\n",
       "      <td>780.000000</td>\n",
       "      <td>47065000</td>\n",
       "      <td>2020</td>\n",
       "    </tr>\n",
       "  </tbody>\n",
       "</table>\n",
       "<p>2416 rows × 8 columns</p>\n",
       "</div>"
      ],
      "text/plain": [
       "           Date        Open        High         Low       Close   Adj Close  \\\n",
       "0    2010-06-29   19.000000   25.000000   17.540001   23.889999   23.889999   \n",
       "1    2010-06-30   25.790001   30.420000   23.299999   23.830000   23.830000   \n",
       "2    2010-07-01   25.000000   25.920000   20.270000   21.959999   21.959999   \n",
       "3    2010-07-02   23.000000   23.100000   18.709999   19.200001   19.200001   \n",
       "4    2010-07-06   20.000000   20.000000   15.830000   16.110001   16.110001   \n",
       "...         ...         ...         ...         ...         ...         ...   \n",
       "2411 2020-01-28  568.489990  576.809998  558.080017  566.900024  566.900024   \n",
       "2412 2020-01-29  575.690002  589.799988  567.429993  580.989990  580.989990   \n",
       "2413 2020-01-30  632.419983  650.880005  618.000000  640.809998  640.809998   \n",
       "2414 2020-01-31  640.000000  653.000000  632.520020  650.570007  650.570007   \n",
       "2415 2020-02-03  673.690002  786.140015  673.520020  780.000000  780.000000   \n",
       "\n",
       "        Volume  Year  \n",
       "0     18766300  2010  \n",
       "1     17187100  2010  \n",
       "2      8218800  2010  \n",
       "3      5139800  2010  \n",
       "4      6866900  2010  \n",
       "...        ...   ...  \n",
       "2411  11788500  2020  \n",
       "2412  17801500  2020  \n",
       "2413  29005700  2020  \n",
       "2414  15719300  2020  \n",
       "2415  47065000  2020  \n",
       "\n",
       "[2416 rows x 8 columns]"
      ]
     },
     "execution_count": 6,
     "metadata": {},
     "output_type": "execute_result"
    }
   ],
   "source": [
    "df['Date'] = pd.to_datetime(df['Date'])\n",
    "df['Year'] = df['Date'].dt.year\n",
    "df"
   ]
  },
  {
   "cell_type": "markdown",
   "id": "3e50d7fd",
   "metadata": {},
   "source": [
    "Plotting the trend for opening price"
   ]
  },
  {
   "cell_type": "code",
   "execution_count": 7,
   "id": "19094eb6",
   "metadata": {},
   "outputs": [
    {
     "data": {
      "text/plain": [
       "Text(0.5, 1.0, 'The Trend for opening price')"
      ]
     },
     "execution_count": 7,
     "metadata": {},
     "output_type": "execute_result"
    },
    {
     "data": {
      "image/png": "[encoded data removed]",
      "text/plain": [
       "<Figure size 720x720 with 1 Axes>"
      ]
     },
     "metadata": {
      "needs_background": "light"
     },
     "output_type": "display_data"
    }
   ],
   "source": [
    "plt.figure(figsize = (10, 10))\n",
    "sns.lineplot(data = df, x= 'Year', y = 'Open')\n",
    "plt.xlabel(\"Year\")\n",
    "plt.ylabel(\"Stock Value\")\n",
    "plt.title(\"The Trend for opening price\")"
   ]
  },
  {
   "cell_type": "markdown",
   "id": "d9fd1c0f",
   "metadata": {},
   "source": [
    "Plotting the trend for closing price"
   ]
  },
  {
   "cell_type": "code",
   "execution_count": 8,
   "id": "e66c46b8",
   "metadata": {},
   "outputs": [
    {
     "data": {
      "text/plain": [
       "Text(0.5, 1.0, 'The Trend for closing price')"
      ]
     },
     "execution_count": 8,
     "metadata": {},
     "output_type": "execute_result"
    },
    {
     "data": {
      "image/png": "[encoded data removed]",
      "text/plain": [
       "<Figure size 720x720 with 1 Axes>"
      ]
     },
     "metadata": {
      "needs_background": "light"
     },
     "output_type": "display_data"
    }
   ],
   "source": [
    "plt.figure(figsize = (10, 10))\n",
    "sns.lineplot(data = df, x= 'Year', y = 'Close')\n",
    "plt.xlabel(\"Year\")\n",
    "plt.ylabel(\"Stock Value\")\n",
    "plt.title(\"The Trend for closing price\")"
   ]
  },
  {
   "cell_type": "markdown",
   "id": "40da8ced",
   "metadata": {},
   "source": [
    "Dropping Adj Close, Volume and  Date because they are not needed in building the model"
   ]
  },
  {
   "cell_type": "code",
   "execution_count": 9,
   "id": "384a5de3",
   "metadata": {},
   "outputs": [],
   "source": [
    "x_and_y = df.drop(columns = ['Adj Close' , 'Volume', 'Date'])\n"
   ]
  },
  {
   "cell_type": "markdown",
   "id": "b72f37e8",
   "metadata": {},
   "source": [
    "Normalising the data"
   ]
  },
  {
   "cell_type": "code",
   "execution_count": 10,
   "id": "1f74ebd2",
   "metadata": {},
   "outputs": [],
   "source": [
    "scaler = MinMaxScaler()\n",
    "normalised_df = pd.DataFrame(scaler.fit_transform(x_and_y), columns= x_and_y.columns)\n",
    "X = normalised_df.drop(columns = ['Close'])\n",
    "Y = normalised_df['Close']"
   ]
  },
  {
   "cell_type": "markdown",
   "id": "32eaf51e",
   "metadata": {},
   "source": [
    "Building the model"
   ]
  },
  {
   "cell_type": "code",
   "execution_count": 11,
   "id": "1535a205",
   "metadata": {},
   "outputs": [
    {
     "data": {
      "text/plain": [
       "LinearRegression()"
      ]
     },
     "execution_count": 11,
     "metadata": {},
     "output_type": "execute_result"
    }
   ],
   "source": [
    "x_train, x_test, y_train, y_test = train_test_split(X, Y, test_size= 0.3, random_state= 100)\n",
    "linear_model = LinearRegression()\n",
    "#fit the model to the training dataset\n",
    "linear_model.fit(x_train, y_train)\n"
   ]
  },
  {
   "cell_type": "code",
   "execution_count": 12,
   "id": "b2f9edf6",
   "metadata": {},
   "outputs": [
    {
     "data": {
      "text/plain": [
       "array([0.0021955 , 0.00631305, 0.27250745, 0.31112649, 0.38383518,\n",
       "       0.24662201, 0.26546612, 0.02504882, 0.39535097, 0.27768583,\n",
       "       0.2385246 , 0.29011908, 0.38078123, 0.40495353, 0.02161104,\n",
       "       0.31771241, 0.28008378, 0.72879616, 0.25304586, 0.4290046 ,\n",
       "       0.2502469 , 0.31005914, 0.01516473, 0.29778002, 0.00886727,\n",
       "       0.02782575, 0.26707961, 0.26863521, 0.37312259, 0.42546505,\n",
       "       0.44202249, 0.31113097, 0.03032502, 0.37323588, 0.42786023,\n",
       "       0.01661526, 0.01858495, 0.31751132, 0.43465044, 0.01521849,\n",
       "       0.27433536, 0.24114212, 0.49386664, 0.27597117, 0.02124694,\n",
       "       0.32448972, 0.24769991, 0.38143757, 0.4812738 , 0.43166416,\n",
       "       0.25615676, 0.01644196, 0.45658532, 0.38094336, 0.02044767,\n",
       "       0.40066732, 0.37195498, 0.3992461 , 0.28673583, 0.02573367,\n",
       "       0.41277151, 0.26679283, 0.2468619 , 0.01759857, 0.31056683,\n",
       "       0.34440327, 0.42708155, 0.13588273, 0.31362746, 0.01096872,\n",
       "       0.02424322, 0.02819908, 0.00697269, 0.24788483, 0.31435664,\n",
       "       0.28548893, 0.31507954, 0.42142976, 0.26716539, 0.29357103,\n",
       "       0.27330007, 0.1124191 , 0.36884235, 0.01642287, 0.02157042,\n",
       "       0.19512117, 0.25485789, 0.39805505, 0.43835778, 0.31726441,\n",
       "       0.39828382, 0.01579845, 0.34424377, 0.32673101, 0.25992394,\n",
       "       0.43863423, 0.44302803, 0.38423008, 0.44954543, 0.32271442,\n",
       "       0.30845349, 0.01705233, 0.26920467, 0.2443668 , 0.19974066,\n",
       "       0.01043802, 0.41959106, 0.26327551, 0.01504906, 0.01821167,\n",
       "       0.30280013, 0.01795234, 0.2692871 , 0.02385242, 0.01636464,\n",
       "       0.02057821, 0.32241234, 0.29498229, 0.27176716, 0.27181236,\n",
       "       0.3509398 , 0.19558681, 0.0311766 , 0.46815903, 0.39336826,\n",
       "       0.01118142, 0.34899716, 0.1969284 , 0.01630409, 0.0231972 ,\n",
       "       0.3063421 , 0.42902188, 0.1683137 , 0.28530536, 0.24383883,\n",
       "       0.01727633, 0.25913723, 0.27760804, 0.02083785, 0.09256573,\n",
       "       0.02264828, 0.02123067, 0.26178312, 0.0966696 , 0.02485765,\n",
       "       0.02389794, 0.32697418, 0.44160366, 0.32054968, 0.02152027,\n",
       "       0.28336676, 0.01172335, 0.26307102, 0.44955241, 0.02380367,\n",
       "       0.38695167, 0.37570185, 0.24400725, 0.35545797, 0.37994121,\n",
       "       0.30059528, 0.01620256, 0.28236971, 0.31279605, 0.29710541,\n",
       "       0.01549067, 0.2318982 , 0.42888398, 0.23169957, 0.31481716,\n",
       "       0.02393189, 0.41553787, 0.27852623, 0.09798062, 0.42553634,\n",
       "       0.23901105, 0.01052891, 0.02353733, 0.01482622, 0.32475529,\n",
       "       0.00632235, 0.25855224, 0.41372382, 0.3330681 , 0.32699082,\n",
       "       0.36849601, 0.28570942, 0.02991158, 0.26720757, 0.35300741,\n",
       "       0.29858925, 0.00406897, 0.01522219, 0.00610133, 0.39918184,\n",
       "       0.35298404, 0.02215409, 0.36865925, 0.37982476, 0.2603106 ,\n",
       "       0.16598551, 0.29373055, 0.01188779, 0.28460895, 0.39079591,\n",
       "       0.01686551, 0.16587502, 0.01535521, 0.00498106, 0.207401  ,\n",
       "       0.38079779, 0.11271434, 0.45939321, 0.29111761, 0.01801806,\n",
       "       0.23660134, 0.03783113, 0.26670314, 0.01753488, 0.24443187,\n",
       "       0.01502835, 0.30464071, 0.01624961, 0.02047788, 0.43031913,\n",
       "       0.38112057, 0.30400723, 0.41985232, 0.00881493, 0.02134104,\n",
       "       0.02265026, 0.02015761, 0.02597233, 0.21614251, 0.25579155,\n",
       "       0.2495878 , 0.41587127, 0.17787854, 0.32312216, 0.02385524,\n",
       "       0.26486682, 0.18143161, 0.09737021, 0.3862255 , 0.01732438,\n",
       "       0.33074849, 0.01045597, 0.38659953, 0.10444905, 0.0264312 ,\n",
       "       0.27256783, 0.35336784, 0.30744415, 0.01759296, 0.35256489,\n",
       "       0.02108796, 0.01860214, 0.01550042, 0.02256257, 0.29230736,\n",
       "       0.02281831, 0.27914741, 0.00487512, 0.38628849, 0.3268796 ,\n",
       "       0.3295458 , 0.38221121, 0.31772074, 0.00956581, 0.29756289,\n",
       "       0.27875576, 0.02867358, 0.58618069, 0.10397754, 0.02050565,\n",
       "       0.01009097, 0.01230623, 0.36884637, 0.29336512, 0.26992922,\n",
       "       0.02482528, 0.01068242, 0.25049859, 0.26148608, 0.21773852,\n",
       "       0.37877244, 0.27982072, 0.09725865, 0.01870931, 0.31878795,\n",
       "       0.01614883, 0.44658848, 0.36925517, 0.23857445, 0.01176937,\n",
       "       0.29951132, 0.26276653, 0.02443116, 0.01936412, 0.02082583,\n",
       "       0.02091026, 0.40813636, 0.28666901, 0.24346166, 0.01554437,\n",
       "       0.27663424, 0.28838709, 0.19305534, 0.42833269, 0.29419546,\n",
       "       0.11179376, 0.0089702 , 0.01592887, 0.2777781 , 0.02468836,\n",
       "       0.39004456, 0.24245445, 0.01646654, 0.022586  , 0.02032714,\n",
       "       0.44131107, 0.00979474, 0.27204514, 0.36454307, 0.33124248,\n",
       "       0.30316886, 0.31246283, 0.01586088, 0.26944149, 0.26972658,\n",
       "       0.25300677, 0.34446322, 0.01054693, 0.02083838, 0.28631154,\n",
       "       0.00803814, 0.26708403, 0.23948079, 0.4290587 , 0.01424054,\n",
       "       0.3346452 , 0.39613846, 0.24148305, 0.18459158, 0.23063635,\n",
       "       0.25213297, 0.31710775, 0.01029209, 0.02736464, 0.19902143,\n",
       "       0.44087512, 0.42288174, 0.24482568, 0.26436607, 0.26463118,\n",
       "       0.3704102 , 0.01042493, 0.28320479, 0.13698204, 0.26117237,\n",
       "       0.03098418, 0.43562248, 0.41012138, 0.15686071, 0.22721265,\n",
       "       0.45372941, 0.02296645, 0.01537419, 0.36574979, 0.38702726,\n",
       "       0.020804  , 0.01936822, 0.02807534, 0.37753909, 0.01384181,\n",
       "       0.0180846 , 0.00651259, 0.295715  , 0.01673242, 0.43800994,\n",
       "       0.26315192, 0.39270553, 0.33295512, 0.36162424, 0.02251285,\n",
       "       0.05376558, 0.16990784, 0.31007895, 0.23331765, 0.31446645,\n",
       "       0.05343568, 0.25766371, 0.35736717, 0.22601029, 0.32444785,\n",
       "       0.46517818, 0.32235706, 0.44138165, 0.01571032, 0.32277403,\n",
       "       0.01053543, 0.28109894, 0.39100521, 0.32507552, 0.41343031,\n",
       "       0.38225716, 0.39884198, 0.0151844 , 0.24901283, 0.29511566,\n",
       "       0.28761724, 0.40252031, 0.43560802, 0.2285838 , 0.38968247,\n",
       "       0.00408353, 0.01323682, 0.25937346, 0.28086167, 0.30654103,\n",
       "       0.27548378, 0.37799083, 0.25175148, 0.36973621, 0.02518998,\n",
       "       0.26294876, 0.02184606, 0.00652695, 0.24366489, 0.02211813,\n",
       "       0.20644118, 0.01443041, 0.01883897, 0.02402859, 0.01637461,\n",
       "       0.28690533, 0.22743908, 0.40678312, 0.34448251, 0.43101913,\n",
       "       0.14151764, 0.27288877, 0.30612499, 0.34917832, 0.11166661,\n",
       "       0.01043361, 0.01881528, 0.02272862, 0.26273225, 0.01505315,\n",
       "       0.11449503, 0.35507129, 0.00654574, 0.30356565, 0.02074962,\n",
       "       0.32514441, 0.00640225, 0.02262456, 0.28871861, 0.01056569,\n",
       "       0.02347654, 0.3742326 , 0.01806051, 0.21923222, 0.01215044,\n",
       "       0.24606048, 0.2380539 , 0.27193297, 0.27192706, 0.24132103,\n",
       "       0.25423611, 0.15419897, 0.02046934, 0.33203098, 0.3145106 ,\n",
       "       0.40381169, 0.53912212, 0.36612853, 0.11620095, 0.01674777,\n",
       "       0.35296271, 0.0171342 , 0.29215024, 0.27240855, 0.01467644,\n",
       "       0.26335287, 0.37591054, 0.21040642, 0.00765686, 0.34647664,\n",
       "       0.01541617, 0.25729449, 0.30500048, 0.1663613 , 0.24599847,\n",
       "       0.39203494, 0.35441466, 0.01699244, 0.01625197, 0.41103396,\n",
       "       0.24797582, 0.2481513 , 0.01573863, 0.30867414, 0.01440459,\n",
       "       0.02799972, 0.00302832, 0.32121099, 0.31840674, 0.10834052,\n",
       "       0.01642747, 0.26802019, 0.02335149, 0.01604301, 0.0047421 ,\n",
       "       0.23783668, 0.30933406, 0.30436013, 0.31031342, 0.00964731,\n",
       "       0.37259602, 0.378034  , 0.33268748, 0.16315448, 0.02911058,\n",
       "       0.3768486 , 0.27495189, 0.27408399, 0.01669349, 0.13582629,\n",
       "       0.41173481, 0.02364225, 0.27714642, 0.01440042, 0.02730356,\n",
       "       0.29238559, 0.01471087, 0.30108392, 0.02376341, 0.41190113,\n",
       "       0.24322381, 0.40680726, 0.02397605, 0.30401171, 0.36754007,\n",
       "       0.24225438, 0.28400527, 0.39843436, 0.02526501, 0.34101986,\n",
       "       0.02622134, 0.22012126, 0.38519378, 0.42257884, 0.4506395 ,\n",
       "       0.38336665, 0.29763738, 0.02305141, 0.44564947, 0.4206125 ,\n",
       "       0.01776185, 0.0176611 , 0.23383784, 0.31318104, 0.01013532,\n",
       "       0.19143776, 0.21160092, 0.02011858, 0.25605161, 0.10597817,\n",
       "       0.01077984, 0.42950058, 0.23817432, 0.02288623, 0.0062157 ,\n",
       "       0.31093523, 0.29201388, 0.46972437, 0.01386189, 0.26293432,\n",
       "       0.21886633, 0.25653408, 0.0164399 , 0.31267991, 0.2119101 ,\n",
       "       0.24759664, 0.31826445, 0.00581682, 0.26123431, 0.1409379 ,\n",
       "       0.27404428, 0.02386094, 0.38949685, 0.24298741, 0.28357796,\n",
       "       0.01209644, 0.01343785, 0.42228845, 0.02053632, 0.01796913,\n",
       "       0.03392791, 0.34085378, 0.28999586, 0.01020514, 0.48461343,\n",
       "       0.31264318, 0.2459969 , 0.01903455, 0.25640221, 0.42209601,\n",
       "       0.02192405, 0.24412381, 0.26780546, 0.27351059, 0.29762194,\n",
       "       0.44149335, 0.04785019, 0.25856519, 0.14451867, 0.41802517,\n",
       "       0.31067827, 0.40855096, 0.41152953, 0.04403296, 0.26408364,\n",
       "       0.31385435, 0.02411658, 0.33456813, 0.40824558, 0.02018613,\n",
       "       0.47094951, 0.01973846, 0.27130178, 0.25504919, 0.00885672,\n",
       "       0.17237993, 0.27657736, 0.37847982, 0.27720195, 0.01569388,\n",
       "       0.37421739, 0.01810666, 0.01244266, 0.53854629, 0.01957926,\n",
       "       0.02023286, 0.27990373, 0.28382193, 0.32712248, 0.00555593,\n",
       "       0.31199323, 0.04376321, 0.01338299, 0.26278479, 0.24835065,\n",
       "       0.22107169, 0.26516514, 0.00752911, 0.23801955, 0.39589318,\n",
       "       0.01315162, 0.22785774, 0.01662869, 0.31768866, 0.24855768,\n",
       "       0.27962372, 0.02291522, 0.00798937, 0.02535907, 0.29760612,\n",
       "       0.02076557, 0.16055237, 0.30320214, 0.0059547 , 0.43546333,\n",
       "       0.11357858, 0.341501  , 0.03265396, 0.37198105, 0.0156803 ,\n",
       "       0.02302411, 0.19452107, 0.26281018, 0.43069783, 0.32277904,\n",
       "       0.45536685, 0.3917846 , 0.31309682, 0.28923622, 0.4334588 ,\n",
       "       0.020419  , 0.01621695, 0.31840023, 0.24741696, 0.22945214,\n",
       "       0.01650329, 0.17094687, 0.2276594 , 0.29530839, 0.41322896,\n",
       "       0.01745535, 0.24627599, 0.26914719, 0.02005324, 0.24288326,\n",
       "       0.00113976, 0.3148579 , 0.27371361, 0.31498989, 0.0178926 ,\n",
       "       0.01155526, 0.0475181 , 0.28539535, 0.35801686, 0.34971778,\n",
       "       0.01288989, 0.02804216, 0.24435219, 0.01793124, 0.4285515 ,\n",
       "       0.42474291, 0.23873942, 0.30873932, 0.01361785, 0.25065089])"
      ]
     },
     "execution_count": 12,
     "metadata": {},
     "output_type": "execute_result"
    }
   ],
   "source": [
    "predicted_values = linear_model.predict(x_test)\n",
    "predicted_values"
   ]
  },
  {
   "cell_type": "markdown",
   "id": "54dcd651",
   "metadata": {},
   "source": [
    "Getting the Mean Absolute Error"
   ]
  },
  {
   "cell_type": "code",
   "execution_count": 13,
   "id": "01590092",
   "metadata": {},
   "outputs": [
    {
     "data": {
      "text/plain": [
       "0.002"
      ]
     },
     "execution_count": 13,
     "metadata": {},
     "output_type": "execute_result"
    }
   ],
   "source": [
    "mae= mean_absolute_error(y_test, predicted_values)\n",
    "round(mae, 3)"
   ]
  },
  {
   "cell_type": "markdown",
   "id": "e6b9c349",
   "metadata": {},
   "source": [
    "Getting the Residual Sum of Squares"
   ]
  },
  {
   "cell_type": "code",
   "execution_count": 14,
   "id": "0a3d236a",
   "metadata": {},
   "outputs": [
    {
     "data": {
      "text/plain": [
       "0.005"
      ]
     },
     "execution_count": 14,
     "metadata": {},
     "output_type": "execute_result"
    }
   ],
   "source": [
    "rss= np.sum(np.square(y_test - predicted_values))\n",
    "round(rss, 3)"
   ]
  },
  {
   "cell_type": "markdown",
   "id": "2707f160",
   "metadata": {},
   "source": [
    "Getting the Mean Squared Error"
   ]
  },
  {
   "cell_type": "code",
   "execution_count": 15,
   "id": "1e776934",
   "metadata": {},
   "outputs": [
    {
     "data": {
      "text/plain": [
       "0.0"
      ]
     },
     "execution_count": 15,
     "metadata": {},
     "output_type": "execute_result"
    }
   ],
   "source": [
    "mse = mean_squared_error(y_test, predicted_values)\n",
    "round(mse, 3)"
   ]
  },
  {
   "cell_type": "markdown",
   "id": "99e6f2a6",
   "metadata": {},
   "source": [
    "Getting the Root Mean Squared Error"
   ]
  },
  {
   "cell_type": "code",
   "execution_count": 16,
   "id": "f874eeb5",
   "metadata": {},
   "outputs": [
    {
     "data": {
      "text/plain": [
       "0.003"
      ]
     },
     "execution_count": 16,
     "metadata": {},
     "output_type": "execute_result"
    }
   ],
   "source": [
    "rmse = np.sqrt(mean_squared_error(y_test, predicted_values))\n",
    "round(rmse, 3)"
   ]
  },
  {
   "cell_type": "markdown",
   "id": "473fa7b5",
   "metadata": {},
   "source": [
    "Getting the R2 Score"
   ]
  },
  {
   "cell_type": "code",
   "execution_count": 17,
   "id": "ff71b26e",
   "metadata": {},
   "outputs": [
    {
     "data": {
      "text/plain": [
       "1.0"
      ]
     },
     "execution_count": 17,
     "metadata": {},
     "output_type": "execute_result"
    }
   ],
   "source": [
    "r2_score = r2_score(y_test, predicted_values)\n",
    "round(r2_score, 3)"
   ]
  },
  {
   "cell_type": "markdown",
   "id": "13740556",
   "metadata": {},
   "source": [
    "Comparing the predicted values to the actual values"
   ]
  },
  {
   "cell_type": "code",
   "execution_count": 18,
   "id": "8cf3107b",
   "metadata": {},
   "outputs": [
    {
     "data": {
      "text/html": [
       "<div>\n",
       "<style scoped>\n",
       "    .dataframe tbody tr th:only-of-type {\n",
       "        vertical-align: middle;\n",
       "    }\n",
       "\n",
       "    .dataframe tbody tr th {\n",
       "        vertical-align: top;\n",
       "    }\n",
       "\n",
       "    .dataframe thead th {\n",
       "        text-align: right;\n",
       "    }\n",
       "</style>\n",
       "<table border=\"1\" class=\"dataframe\">\n",
       "  <thead>\n",
       "    <tr style=\"text-align: right;\">\n",
       "      <th></th>\n",
       "      <th>Predicted Values</th>\n",
       "      <th>Actual Values</th>\n",
       "    </tr>\n",
       "  </thead>\n",
       "  <tbody>\n",
       "    <tr>\n",
       "      <th>31</th>\n",
       "      <td>0.002195</td>\n",
       "      <td>0.002355</td>\n",
       "    </tr>\n",
       "    <tr>\n",
       "      <th>71</th>\n",
       "      <td>0.006313</td>\n",
       "      <td>0.006059</td>\n",
       "    </tr>\n",
       "    <tr>\n",
       "      <th>1016</th>\n",
       "      <td>0.272507</td>\n",
       "      <td>0.275975</td>\n",
       "    </tr>\n",
       "    <tr>\n",
       "      <th>1694</th>\n",
       "      <td>0.311126</td>\n",
       "      <td>0.313020</td>\n",
       "    </tr>\n",
       "    <tr>\n",
       "      <th>1736</th>\n",
       "      <td>0.383835</td>\n",
       "      <td>0.385436</td>\n",
       "    </tr>\n",
       "  </tbody>\n",
       "</table>\n",
       "</div>"
      ],
      "text/plain": [
       "      Predicted Values  Actual Values\n",
       "31            0.002195       0.002355\n",
       "71            0.006313       0.006059\n",
       "1016          0.272507       0.275975\n",
       "1694          0.311126       0.313020\n",
       "1736          0.383835       0.385436"
      ]
     },
     "execution_count": 18,
     "metadata": {},
     "output_type": "execute_result"
    }
   ],
   "source": [
    "comparison = pd.DataFrame({'Predicted Values':predicted_values,'Actual Values':y_test})\n",
    "comparison.head()"
   ]
  },
  {
   "cell_type": "markdown",
   "id": "f3415bbf",
   "metadata": {},
   "source": [
    "Plotting the Comparison"
   ]
  },
  {
   "cell_type": "code",
   "execution_count": 19,
   "id": "7ecf3b82",
   "metadata": {},
   "outputs": [
    {
     "data": {
      "text/plain": [
       "<AxesSubplot:>"
      ]
     },
     "execution_count": 19,
     "metadata": {},
     "output_type": "execute_result"
    },
    {
     "data": {
      "image/png": "[encoded data removed]",
      "text/plain": [
       "<Figure size 432x288 with 1 Axes>"
      ]
     },
     "metadata": {
      "needs_background": "light"
     },
     "output_type": "display_data"
    }
   ],
   "source": [
    "graph = comparison.head(15)\n",
    "graph.plot(kind='bar')"
   ]
  },
  {
   "cell_type": "code",
   "execution_count": null,
   "id": "64b0a33d",
   "metadata": {},
   "outputs": [],
   "source": []
  }
 ],
 "metadata": {
  "kernelspec": {
   "display_name": "Python 3 (ipykernel)",
   "language": "python",
   "name": "python3"
  },
  "language_info": {
   "codemirror_mode": {
    "name": "ipython",
    "version": 3
   },
   "file_extension": ".py",
   "mimetype": "text/x-python",
   "name": "python",
   "nbconvert_exporter": "python",
   "pygments_lexer": "ipython3",
   "version": "3.9.7"
  }
 },
 "nbformat": 4,
 "nbformat_minor": 5
}
